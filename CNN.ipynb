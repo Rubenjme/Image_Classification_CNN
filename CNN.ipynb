{
 "cells": [
  {
   "cell_type": "markdown",
   "metadata": {
    "id": "mX8gZlVyCCbz"
   },
   "source": [
    "# **Redes Neuronales Convolucionales (CNN)**\n",
    "---"
   ]
  },
  {
   "cell_type": "markdown",
   "metadata": {},
   "source": [
    "## Objetivos"
   ]
  },
  {
   "cell_type": "markdown",
   "metadata": {},
   "source": [
    "## Descripción del proyecto"
   ]
  },
  {
   "cell_type": "markdown",
   "metadata": {},
   "source": [
    "---"
   ]
  },
  {
   "cell_type": "markdown",
   "metadata": {
    "id": "QI274F8LQC59"
   },
   "source": [
    "## **Carga de los datos**"
   ]
  },
  {
   "cell_type": "code",
   "execution_count": 1,
   "metadata": {
    "id": "D7tKOZ9BFfki"
   },
   "outputs": [],
   "source": [
    "import numpy as np\n",
    "import keras\n",
    "import matplotlib.pyplot as plt\n",
    "import pandas as pd\n",
    "import keras.datasets.cifar10 as cifar10\n",
    "\n",
    "from tensorflow import keras\n",
    "from keras.utils import to_categorical"
   ]
  },
  {
   "cell_type": "code",
   "execution_count": 2,
   "metadata": {
    "colab": {
     "base_uri": "https://localhost:8080/"
    },
    "id": "iw0apA7ruy1c",
    "outputId": "2635b603-8939-428b-c98f-b3ec7df5c81a"
   },
   "outputs": [
    {
     "name": "stdout",
     "output_type": "stream",
     "text": [
      "Downloading data from https://www.cs.toronto.edu/~kriz/cifar-10-python.tar.gz\n",
      "\u001b[1m170498071/170498071\u001b[0m \u001b[32m━━━━━━━━━━━━━━━━━━━━\u001b[0m\u001b[37m\u001b[0m \u001b[1m62s\u001b[0m 0us/step\n"
     ]
    }
   ],
   "source": [
    "# Se definen los datos de entrenamiento, validación y test\n",
    "(X, Y), (x_test, y_test) = cifar10.load_data()\n",
    "(x_train, x_valid) = (X[:40000], X[40000:])\n",
    "(y_train, y_valid) = (Y[:40000], Y[40000:])"
   ]
  },
  {
   "cell_type": "code",
   "execution_count": 3,
   "metadata": {
    "id": "_HIhp512sPUJ"
   },
   "outputs": [],
   "source": [
    "# Normalizo los datos de entrada para que estén entre 0 y 1\n",
    "x_train = x_train / 255.\n",
    "x_valid = x_valid / 255.\n",
    "x_test = x_test / 255."
   ]
  },
  {
   "cell_type": "code",
   "execution_count": 4,
   "metadata": {
    "id": "hMFhe3COFwSD"
   },
   "outputs": [],
   "source": [
    "# Mapeo de número de clase a elemento (animal o vehículo) correspondiente en CIFAR-10\n",
    "MAP_ELEMENTS = {\n",
    "    0: 'avion', 1: 'coche', 2: 'ave',\n",
    "    3: 'gato', 4: 'ciervo', 5: 'perro', 6: 'rana',\n",
    "    7: 'caballo', 8: 'barco', 9: 'camion'\n",
    "}"
   ]
  },
  {
   "cell_type": "code",
   "execution_count": 5,
   "metadata": {
    "colab": {
     "base_uri": "https://localhost:8080/"
    },
    "id": "IOoQ7_0GrylF",
    "outputId": "a068ee11-e29e-46d8-c897-28d96fdc78aa"
   },
   "outputs": [
    {
     "name": "stdout",
     "output_type": "stream",
     "text": [
      "(40000, 10)\n",
      "(10000, 10)\n",
      "(10000, 10)\n"
     ]
    }
   ],
   "source": [
    "# Función para convertir las etiquetas a codificación one-hot (vector de 10 elementos)\n",
    "def convert_to_one_hot(labels, num_classes):\n",
    "    return np.squeeze(np.array([to_categorical(label, num_classes=num_classes) for label in labels]))\n",
    "\n",
    "# Convierto las etiquetas de entrenamiento, validación y test a codificación one-hot\n",
    "num_classes = 10\n",
    "y_train_one_hot = convert_to_one_hot(y_train, num_classes)\n",
    "y_valid_one_hot = convert_to_one_hot(y_valid, num_classes)\n",
    "y_test_one_hot = convert_to_one_hot(y_test, num_classes)\n",
    "\n",
    "# Verifico las conversiones\n",
    "print(y_train_one_hot.shape)\n",
    "print(y_valid_one_hot.shape)\n",
    "print(y_test_one_hot.shape)"
   ]
  },
  {
   "cell_type": "markdown",
   "metadata": {},
   "source": [
    "## **CNN básica**"
   ]
  }
 ],
 "metadata": {
  "accelerator": "GPU",
  "colab": {
   "provenance": []
  },
  "kernelspec": {
   "display_name": "Python 3",
   "language": "python",
   "name": "python3"
  },
  "language_info": {
   "codemirror_mode": {
    "name": "ipython",
    "version": 3
   },
   "file_extension": ".py",
   "mimetype": "text/x-python",
   "name": "python",
   "nbconvert_exporter": "python",
   "pygments_lexer": "ipython3",
   "version": "3.11.9"
  }
 },
 "nbformat": 4,
 "nbformat_minor": 4
}
